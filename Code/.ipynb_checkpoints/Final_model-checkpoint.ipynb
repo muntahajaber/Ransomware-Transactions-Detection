{
 "cells": [
  {
   "cell_type": "markdown",
   "id": "6bd474ee",
   "metadata": {},
   "source": [
    "# Import"
   ]
  },
  {
   "cell_type": "code",
   "execution_count": 1,
   "id": "0cd4db15-e487-4fbd-8db6-adae52bbc791",
   "metadata": {},
   "outputs": [],
   "source": [
    "import pandas as pd\n",
    "import numpy as np\n",
    "\n",
    "\n",
    "from sklearn.linear_model import LogisticRegression, SGDClassifier\n",
    "from sklearn.model_selection import train_test_split\n",
    "from sklearn.metrics import precision_score, recall_score, accuracy_score, roc_auc_score, confusion_matrix, precision_recall_fscore_support\n",
    "from sklearn.metrics import confusion_matrix\n",
    "from sklearn.preprocessing import StandardScaler, MinMaxScaler\n",
    "from sklearn.svm import SVC\n",
    "from sklearn.neighbors import KNeighborsClassifier\n",
    "from sklearn.tree import DecisionTreeClassifier\n",
    "from sklearn.ensemble import RandomForestClassifier, ExtraTreesClassifier, VotingClassifier\n",
    "from sklearn import preprocessing, neighbors\n",
    "from sklearn.ensemble import GradientBoostingClassifier"
   ]
  },
  {
   "cell_type": "code",
   "execution_count": 2,
   "id": "4075c769-cbc5-4d1a-858c-7f0963decd18",
   "metadata": {},
   "outputs": [],
   "source": [
    "#Import Balanced Data\n",
    "df_new = pd.read_csv(\"../Data/BMT_balanced_encoded_address.csv\",index_col= 0)"
   ]
  },
  {
   "cell_type": "code",
   "execution_count": 3,
   "id": "fbd19b90",
   "metadata": {},
   "outputs": [
    {
     "data": {
      "text/html": [
       "<div>\n",
       "<style scoped>\n",
       "    .dataframe tbody tr th:only-of-type {\n",
       "        vertical-align: middle;\n",
       "    }\n",
       "\n",
       "    .dataframe tbody tr th {\n",
       "        vertical-align: top;\n",
       "    }\n",
       "\n",
       "    .dataframe thead th {\n",
       "        text-align: right;\n",
       "    }\n",
       "</style>\n",
       "<table border=\"1\" class=\"dataframe\">\n",
       "  <thead>\n",
       "    <tr style=\"text-align: right;\">\n",
       "      <th></th>\n",
       "      <th>address</th>\n",
       "      <th>year</th>\n",
       "      <th>day</th>\n",
       "      <th>length</th>\n",
       "      <th>weight</th>\n",
       "      <th>count</th>\n",
       "      <th>looped</th>\n",
       "      <th>neighbors</th>\n",
       "      <th>income</th>\n",
       "      <th>label</th>\n",
       "      <th>length_t</th>\n",
       "      <th>weight_t</th>\n",
       "      <th>count_t</th>\n",
       "      <th>looped_t</th>\n",
       "      <th>neighbors_t</th>\n",
       "      <th>income_t</th>\n",
       "    </tr>\n",
       "  </thead>\n",
       "  <tbody>\n",
       "    <tr>\n",
       "      <th>count</th>\n",
       "      <td>82826.000000</td>\n",
       "      <td>82826.000000</td>\n",
       "      <td>82826.000000</td>\n",
       "      <td>82826.000000</td>\n",
       "      <td>8.282600e+04</td>\n",
       "      <td>82826.000000</td>\n",
       "      <td>82826.000000</td>\n",
       "      <td>82826.000000</td>\n",
       "      <td>8.282600e+04</td>\n",
       "      <td>82826.000000</td>\n",
       "      <td>8.282600e+04</td>\n",
       "      <td>8.282600e+04</td>\n",
       "      <td>8.282600e+04</td>\n",
       "      <td>8.282600e+04</td>\n",
       "      <td>8.282600e+04</td>\n",
       "      <td>8.282600e+04</td>\n",
       "    </tr>\n",
       "    <tr>\n",
       "      <th>mean</th>\n",
       "      <td>30610.651861</td>\n",
       "      <td>2014.673001</td>\n",
       "      <td>178.385121</td>\n",
       "      <td>42.892232</td>\n",
       "      <td>6.068181e-01</td>\n",
       "      <td>658.708316</td>\n",
       "      <td>167.566960</td>\n",
       "      <td>2.245189</td>\n",
       "      <td>2.299863e+09</td>\n",
       "      <td>0.500000</td>\n",
       "      <td>7.907695e-15</td>\n",
       "      <td>-9.215578e-15</td>\n",
       "      <td>2.649182e-15</td>\n",
       "      <td>-2.283879e-14</td>\n",
       "      <td>1.087646e-14</td>\n",
       "      <td>-7.532922e-14</td>\n",
       "    </tr>\n",
       "    <tr>\n",
       "      <th>std</th>\n",
       "      <td>17711.101329</td>\n",
       "      <td>1.883032</td>\n",
       "      <td>99.762367</td>\n",
       "      <td>58.575369</td>\n",
       "      <td>6.925135e+00</td>\n",
       "      <td>1566.799238</td>\n",
       "      <td>781.278102</td>\n",
       "      <td>41.365659</td>\n",
       "      <td>5.160580e+10</td>\n",
       "      <td>0.500003</td>\n",
       "      <td>1.000006e+00</td>\n",
       "      <td>1.000006e+00</td>\n",
       "      <td>1.000006e+00</td>\n",
       "      <td>1.000006e+00</td>\n",
       "      <td>1.000006e+00</td>\n",
       "      <td>1.000006e+00</td>\n",
       "    </tr>\n",
       "    <tr>\n",
       "      <th>min</th>\n",
       "      <td>0.000000</td>\n",
       "      <td>2011.000000</td>\n",
       "      <td>1.000000</td>\n",
       "      <td>0.000000</td>\n",
       "      <td>6.493017e-80</td>\n",
       "      <td>1.000000</td>\n",
       "      <td>0.000000</td>\n",
       "      <td>1.000000</td>\n",
       "      <td>3.000000e+07</td>\n",
       "      <td>0.000000</td>\n",
       "      <td>-1.301079e+00</td>\n",
       "      <td>-1.245293e+00</td>\n",
       "      <td>-7.386517e-01</td>\n",
       "      <td>-3.720718e-01</td>\n",
       "      <td>-1.255511e+00</td>\n",
       "      <td>-1.868294e+00</td>\n",
       "    </tr>\n",
       "    <tr>\n",
       "      <th>25%</th>\n",
       "      <td>15069.250000</td>\n",
       "      <td>2013.000000</td>\n",
       "      <td>91.000000</td>\n",
       "      <td>2.000000</td>\n",
       "      <td>3.571429e-02</td>\n",
       "      <td>1.000000</td>\n",
       "      <td>0.000000</td>\n",
       "      <td>1.000000</td>\n",
       "      <td>8.000000e+07</td>\n",
       "      <td>0.000000</td>\n",
       "      <td>-6.477988e-01</td>\n",
       "      <td>-1.060596e+00</td>\n",
       "      <td>-7.386517e-01</td>\n",
       "      <td>-3.720718e-01</td>\n",
       "      <td>-1.255511e+00</td>\n",
       "      <td>-6.942477e-01</td>\n",
       "    </tr>\n",
       "    <tr>\n",
       "      <th>50%</th>\n",
       "      <td>30775.500000</td>\n",
       "      <td>2015.000000</td>\n",
       "      <td>169.000000</td>\n",
       "      <td>8.000000</td>\n",
       "      <td>3.146329e-01</td>\n",
       "      <td>1.000000</td>\n",
       "      <td>0.000000</td>\n",
       "      <td>2.000000</td>\n",
       "      <td>1.584871e+08</td>\n",
       "      <td>0.500000</td>\n",
       "      <td>-3.707359e-02</td>\n",
       "      <td>-2.491646e-02</td>\n",
       "      <td>-7.386517e-01</td>\n",
       "      <td>-3.720718e-01</td>\n",
       "      <td>4.903861e-01</td>\n",
       "      <td>-6.348627e-02</td>\n",
       "    </tr>\n",
       "    <tr>\n",
       "      <th>75%</th>\n",
       "      <td>46146.000000</td>\n",
       "      <td>2016.000000</td>\n",
       "      <td>266.000000</td>\n",
       "      <td>90.000000</td>\n",
       "      <td>1.000000e+00</td>\n",
       "      <td>38.000000</td>\n",
       "      <td>0.000000</td>\n",
       "      <td>2.000000</td>\n",
       "      <td>5.000000e+08</td>\n",
       "      <td>1.000000</td>\n",
       "      <td>1.122097e+00</td>\n",
       "      <td>1.121375e+00</td>\n",
       "      <td>1.087352e+00</td>\n",
       "      <td>-3.720718e-01</td>\n",
       "      <td>4.903861e-01</td>\n",
       "      <td>7.368739e-01</td>\n",
       "    </tr>\n",
       "    <tr>\n",
       "      <th>max</th>\n",
       "      <td>61950.000000</td>\n",
       "      <td>2018.000000</td>\n",
       "      <td>365.000000</td>\n",
       "      <td>144.000000</td>\n",
       "      <td>1.866717e+03</td>\n",
       "      <td>14494.000000</td>\n",
       "      <td>13833.000000</td>\n",
       "      <td>11746.000000</td>\n",
       "      <td>1.067816e+13</td>\n",
       "      <td>1.000000</td>\n",
       "      <td>1.336270e+00</td>\n",
       "      <td>2.502569e+00</td>\n",
       "      <td>1.720990e+00</td>\n",
       "      <td>2.904817e+00</td>\n",
       "      <td>3.060208e+00</td>\n",
       "      <td>2.519937e+00</td>\n",
       "    </tr>\n",
       "  </tbody>\n",
       "</table>\n",
       "</div>"
      ],
      "text/plain": [
       "            address          year           day        length        weight  \\\n",
       "count  82826.000000  82826.000000  82826.000000  82826.000000  8.282600e+04   \n",
       "mean   30610.651861   2014.673001    178.385121     42.892232  6.068181e-01   \n",
       "std    17711.101329      1.883032     99.762367     58.575369  6.925135e+00   \n",
       "min        0.000000   2011.000000      1.000000      0.000000  6.493017e-80   \n",
       "25%    15069.250000   2013.000000     91.000000      2.000000  3.571429e-02   \n",
       "50%    30775.500000   2015.000000    169.000000      8.000000  3.146329e-01   \n",
       "75%    46146.000000   2016.000000    266.000000     90.000000  1.000000e+00   \n",
       "max    61950.000000   2018.000000    365.000000    144.000000  1.866717e+03   \n",
       "\n",
       "              count        looped     neighbors        income         label  \\\n",
       "count  82826.000000  82826.000000  82826.000000  8.282600e+04  82826.000000   \n",
       "mean     658.708316    167.566960      2.245189  2.299863e+09      0.500000   \n",
       "std     1566.799238    781.278102     41.365659  5.160580e+10      0.500003   \n",
       "min        1.000000      0.000000      1.000000  3.000000e+07      0.000000   \n",
       "25%        1.000000      0.000000      1.000000  8.000000e+07      0.000000   \n",
       "50%        1.000000      0.000000      2.000000  1.584871e+08      0.500000   \n",
       "75%       38.000000      0.000000      2.000000  5.000000e+08      1.000000   \n",
       "max    14494.000000  13833.000000  11746.000000  1.067816e+13      1.000000   \n",
       "\n",
       "           length_t      weight_t       count_t      looped_t   neighbors_t  \\\n",
       "count  8.282600e+04  8.282600e+04  8.282600e+04  8.282600e+04  8.282600e+04   \n",
       "mean   7.907695e-15 -9.215578e-15  2.649182e-15 -2.283879e-14  1.087646e-14   \n",
       "std    1.000006e+00  1.000006e+00  1.000006e+00  1.000006e+00  1.000006e+00   \n",
       "min   -1.301079e+00 -1.245293e+00 -7.386517e-01 -3.720718e-01 -1.255511e+00   \n",
       "25%   -6.477988e-01 -1.060596e+00 -7.386517e-01 -3.720718e-01 -1.255511e+00   \n",
       "50%   -3.707359e-02 -2.491646e-02 -7.386517e-01 -3.720718e-01  4.903861e-01   \n",
       "75%    1.122097e+00  1.121375e+00  1.087352e+00 -3.720718e-01  4.903861e-01   \n",
       "max    1.336270e+00  2.502569e+00  1.720990e+00  2.904817e+00  3.060208e+00   \n",
       "\n",
       "           income_t  \n",
       "count  8.282600e+04  \n",
       "mean  -7.532922e-14  \n",
       "std    1.000006e+00  \n",
       "min   -1.868294e+00  \n",
       "25%   -6.942477e-01  \n",
       "50%   -6.348627e-02  \n",
       "75%    7.368739e-01  \n",
       "max    2.519937e+00  "
      ]
     },
     "execution_count": 3,
     "metadata": {},
     "output_type": "execute_result"
    }
   ],
   "source": [
    "df_new.describe()"
   ]
  },
  {
   "cell_type": "code",
   "execution_count": 4,
   "id": "2c5a8265-7828-4b14-b62a-f086c7379c30",
   "metadata": {},
   "outputs": [
    {
     "data": {
      "text/plain": [
       "label\n",
       "0        41413\n",
       "1        41413\n",
       "dtype: int64"
      ]
     },
     "execution_count": 4,
     "metadata": {},
     "output_type": "execute_result"
    }
   ],
   "source": [
    "# number of balanced lables\n",
    "df_new[['label']].value_counts()"
   ]
  },
  {
   "cell_type": "code",
   "execution_count": 5,
   "id": "6a30d2f5",
   "metadata": {
    "jupyter": {
     "outputs_hidden": true
    },
    "tags": []
   },
   "outputs": [],
   "source": [
    "# Drop unneeded columns\n",
    "df_new.drop(columns=[\"length\",\"weight\",\"count\",\"looped\",\"neighbors\",\"income\"], inplace=True)"
   ]
  },
  {
   "cell_type": "code",
   "execution_count": 6,
   "id": "2bfd6d2f-1a01-4382-92b1-2e3b39b177eb",
   "metadata": {},
   "outputs": [],
   "source": [
    "X_train, X_test, y_train, y_test = train_test_split(df_new.drop(columns=['label']), df_new['label'], \n",
    "                                                    test_size = 0.33, random_state=42)\n"
   ]
  },
  {
   "cell_type": "markdown",
   "id": "fd8c1ef8",
   "metadata": {},
   "source": [
    "# Using Different Classifiers"
   ]
  },
  {
   "cell_type": "markdown",
   "id": "d56d9e4e",
   "metadata": {},
   "source": [
    "### SGD Classifier With Balanced data"
   ]
  },
  {
   "cell_type": "code",
   "execution_count": 7,
   "id": "1f6bface-ba47-4508-91d5-40a192d3e3a0",
   "metadata": {},
   "outputs": [
    {
     "name": "stderr",
     "output_type": "stream",
     "text": [
      "/Users/muntaha/opt/anaconda3/lib/python3.8/site-packages/sklearn/linear_model/_stochastic_gradient.py:574: ConvergenceWarning: Maximum number of iteration reached before convergence. Consider increasing max_iter to improve the fit.\n",
      "  warnings.warn(\"Maximum number of iteration reached before \"\n"
     ]
    }
   ],
   "source": [
    "classifier = SGDClassifier(loss='log', max_iter=100) \n",
    "model = classifier.fit(X_train, y_train)\n",
    "y_pred = model.predict(X_test)"
   ]
  },
  {
   "cell_type": "code",
   "execution_count": 8,
   "id": "9e519e6a-2f9c-4762-ad5d-e6fc1f0bbf51",
   "metadata": {},
   "outputs": [
    {
     "name": "stdout",
     "output_type": "stream",
     "text": [
      "The accuracy of the model is : 50.0 %\n",
      "Confusion Matrix:\n",
      " [[13266   394]\n",
      " [13224   449]]\n"
     ]
    }
   ],
   "source": [
    "accuracy = accuracy_score(y_test,y_pred)\n",
    "conf_mat = confusion_matrix(y_test,y_pred)\n",
    "print(\"The accuracy of the model is :\", round(accuracy,2)*100,\"%\")\n",
    "print(\"Confusion Matrix:\\n\", conf_mat)"
   ]
  },
  {
   "cell_type": "code",
   "execution_count": 9,
   "id": "0825f86b-9337-49ad-9487-4e5f5649e200",
   "metadata": {},
   "outputs": [
    {
     "name": "stdout",
     "output_type": "stream",
     "text": [
      "Precision =  0.5326 \n",
      "Recall =  0.0328 \n",
      "F-Score =  0.0619\n"
     ]
    }
   ],
   "source": [
    "precision, recall, fscore, support = precision_recall_fscore_support(y_test, y_pred, average='binary')\n",
    "print('Precision = ',round(precision,4),'\\nRecall = ', round(recall,4), '\\nF-Score = ',round(fscore,4))"
   ]
  },
  {
   "cell_type": "markdown",
   "id": "7fa5116e",
   "metadata": {},
   "source": [
    "### SGD Classifier with Scaler"
   ]
  },
  {
   "cell_type": "markdown",
   "id": "87d8f81b",
   "metadata": {},
   "source": [
    "#### 1) Standard Scaler"
   ]
  },
  {
   "cell_type": "code",
   "execution_count": 10,
   "id": "117f0b75-295c-451f-b595-50791b927bb6",
   "metadata": {},
   "outputs": [],
   "source": [
    "# fit the scaler\n",
    "scaler = StandardScaler()\n",
    "X_train_scaled = scaler.fit_transform(X_train)\n",
    "X_test_scaled = scaler.fit_transform(X_test)\n"
   ]
  },
  {
   "cell_type": "code",
   "execution_count": 11,
   "id": "f0ca0313-a96d-420e-b3ac-81b314a94904",
   "metadata": {
    "tags": []
   },
   "outputs": [],
   "source": [
    "# fit the classifier\n",
    "\n",
    "classifier = SGDClassifier(loss='log', max_iter=100) \n",
    "model = classifier.fit(X_train_scaled, y_train)\n",
    "y_pred = model.predict(X_test_scaled)"
   ]
  },
  {
   "cell_type": "code",
   "execution_count": 12,
   "id": "1826b9bd-65f1-4d70-9e4f-24cea16ce7a2",
   "metadata": {},
   "outputs": [
    {
     "name": "stdout",
     "output_type": "stream",
     "text": [
      "The accuracy of the model is : 57.99999999999999 %\n",
      "Confusion Matrix:\n",
      " [[8328 5332]\n",
      " [6162 7511]]\n"
     ]
    }
   ],
   "source": [
    "accuracy = accuracy_score(y_test,y_pred)\n",
    "conf_mat = confusion_matrix(y_test,y_pred)\n",
    "print(\"The accuracy of the model is :\", round(accuracy,2)*100,\"%\")\n",
    "print(\"Confusion Matrix:\\n\", conf_mat)"
   ]
  },
  {
   "cell_type": "code",
   "execution_count": 13,
   "id": "5f988fdf-a5bd-4f8d-85b5-9f9510bc7067",
   "metadata": {},
   "outputs": [
    {
     "name": "stdout",
     "output_type": "stream",
     "text": [
      "Precision =  0.5848 \n",
      "Recall =  0.5493 \n",
      "F-Score =  0.5665\n"
     ]
    }
   ],
   "source": [
    "precision, recall, fscore, support = precision_recall_fscore_support(y_test, y_pred, average='binary')\n",
    "print('Precision = ',round(precision,4),'\\nRecall = ', round(recall,4), '\\nF-Score = ',round(fscore,4))"
   ]
  },
  {
   "cell_type": "markdown",
   "id": "1a23660e",
   "metadata": {},
   "source": [
    "#### 2) MinMax Scaler"
   ]
  },
  {
   "cell_type": "code",
   "execution_count": 14,
   "id": "d4eca8bc-4ec8-4a1b-8f7d-05b379d1d484",
   "metadata": {},
   "outputs": [],
   "source": [
    "scaler = MinMaxScaler()\n",
    "X_train_scaled = scaler.fit_transform(X_train)\n",
    "X_test_scaled = scaler.fit_transform(X_test)\n"
   ]
  },
  {
   "cell_type": "code",
   "execution_count": 15,
   "id": "6274ea68-49e2-4582-aee1-81734929db8c",
   "metadata": {},
   "outputs": [],
   "source": [
    "classifier = SGDClassifier(loss='log', max_iter=100) \n",
    "model = classifier.fit(X_train_scaled, y_train)\n",
    "y_pred = model.predict(X_test_scaled)"
   ]
  },
  {
   "cell_type": "code",
   "execution_count": 16,
   "id": "ccd092d5-ca86-4dd7-b3de-ee6e529109a2",
   "metadata": {},
   "outputs": [
    {
     "name": "stdout",
     "output_type": "stream",
     "text": [
      "The accuracy of the model is : 61.0 %\n",
      "Confusion Matrix:\n",
      " [[ 5817  7843]\n",
      " [ 2828 10845]]\n"
     ]
    }
   ],
   "source": [
    "accuracy = accuracy_score(y_test,y_pred)\n",
    "conf_mat = confusion_matrix(y_test,y_pred)\n",
    "print(\"The accuracy of the model is :\", round(accuracy,2)*100,\"%\")\n",
    "print(\"Confusion Matrix:\\n\", conf_mat)"
   ]
  },
  {
   "cell_type": "code",
   "execution_count": 17,
   "id": "e567ae58-b8a8-4745-afdc-7913c0f4748a",
   "metadata": {
    "scrolled": true
   },
   "outputs": [
    {
     "name": "stdout",
     "output_type": "stream",
     "text": [
      "Precision =  0.5803 \n",
      "Recall =  0.7932 \n",
      "F-Score =  0.6703\n"
     ]
    }
   ],
   "source": [
    "precision, recall, fscore, support = precision_recall_fscore_support(y_test, y_pred, average='binary')\n",
    "print('Precision = ',round(precision,4),'\\nRecall = ', round(recall,4), '\\nF-Score = ',round(fscore,4))"
   ]
  },
  {
   "cell_type": "markdown",
   "id": "0aa53b4e-e70c-4575-a01e-e6a8e9267608",
   "metadata": {
    "tags": []
   },
   "source": [
    "### Random Forest model"
   ]
  },
  {
   "cell_type": "code",
   "execution_count": 18,
   "id": "75ce39eb-1732-4ffb-b4ae-c2b5b4b199cf",
   "metadata": {},
   "outputs": [],
   "source": [
    "# work on Balanced DATA (Random sampling)\n",
    "model = RandomForestClassifier(max_depth=3,random_state=2)"
   ]
  },
  {
   "cell_type": "code",
   "execution_count": 19,
   "id": "20d98a30-d206-4449-8f97-e797444c88c3",
   "metadata": {},
   "outputs": [],
   "source": [
    "model = model.fit(X_train,y_train)"
   ]
  },
  {
   "cell_type": "code",
   "execution_count": 20,
   "id": "70140f41-350c-442b-8816-b62a18403d9b",
   "metadata": {},
   "outputs": [
    {
     "data": {
      "text/plain": [
       "0.7416309954999452"
      ]
     },
     "execution_count": 20,
     "metadata": {},
     "output_type": "execute_result"
    }
   ],
   "source": [
    "model.score(X_test,y_test)"
   ]
  },
  {
   "cell_type": "code",
   "execution_count": 21,
   "id": "73135c2d-8baf-4d61-8d61-91059ee3cbf0",
   "metadata": {},
   "outputs": [],
   "source": [
    "Y_pred = model.predict(X_test)"
   ]
  },
  {
   "cell_type": "code",
   "execution_count": 22,
   "id": "c3cd4175-a446-4b81-b748-7748c0b0e629",
   "metadata": {},
   "outputs": [
    {
     "name": "stdout",
     "output_type": "stream",
     "text": [
      "Precision =  0.6872 \n",
      "Recall =  0.8874 \n",
      "F-Score =  0.7746\n"
     ]
    }
   ],
   "source": [
    "precision, recall, fscore, support = precision_recall_fscore_support(y_test, Y_pred, average='binary')\n",
    "print('Precision = ',round(precision,4),'\\nRecall = ', round(recall,4), '\\nF-Score = ',round(fscore,4))"
   ]
  },
  {
   "cell_type": "markdown",
   "id": "534f8261-819a-4be4-befc-19073f4a1772",
   "metadata": {},
   "source": [
    "### Try the model with transformed data "
   ]
  },
  {
   "cell_type": "code",
   "execution_count": 23,
   "id": "6d06ad6f-5333-4cf8-b965-e7843fac1b57",
   "metadata": {},
   "outputs": [
    {
     "name": "stdout",
     "output_type": "stream",
     "text": [
      "0.775619214868474\n",
      "Precision =  0.7181 \n",
      "Recall =  0.9078 \n",
      "F-Score =  0.8019\n"
     ]
    }
   ],
   "source": [
    "model = RandomForestClassifier(max_depth=5,random_state=42)\n",
    "model = model.fit(X_train,y_train)\n",
    "print(model.score(X_test,y_test))\n",
    "Y_pred = model.predict(X_test)\n",
    "precision, recall, fscore, support = precision_recall_fscore_support(y_test, Y_pred, average='binary')\n",
    "print('Precision = ',round(precision,4),'\\nRecall = ', round(recall,4), '\\nF-Score = ',round(fscore,4))"
   ]
  },
  {
   "cell_type": "markdown",
   "id": "0f12f2ba",
   "metadata": {},
   "source": [
    "# Gradient boosted tree with balanced Data"
   ]
  },
  {
   "cell_type": "code",
   "execution_count": 24,
   "id": "da9e77e2",
   "metadata": {},
   "outputs": [
    {
     "name": "stdout",
     "output_type": "stream",
     "text": [
      "0.8439615117257527\n"
     ]
    }
   ],
   "source": [
    "# fit model on GradientBoostingClassifier\n",
    "model = GradientBoostingClassifier()\n",
    "model = model.fit(X_train,y_train)\n",
    "\n",
    "print(model.score(X_test,y_test))\n",
    "Y_pred = model.predict(X_test)\n"
   ]
  },
  {
   "cell_type": "code",
   "execution_count": 25,
   "id": "ef9a3ad2",
   "metadata": {},
   "outputs": [
    {
     "name": "stdout",
     "output_type": "stream",
     "text": [
      "Precision =  0.8089 \n",
      "Recall =  0.9008 \n",
      "F-Score =  0.8524\n"
     ]
    }
   ],
   "source": [
    "precision, recall, fscore, support = precision_recall_fscore_support(y_test, Y_pred, average='binary')\n",
    "print('Precision = ',round(precision,4),'\\nRecall = ', round(recall,4), '\\nF-Score = ',round(fscore,4))\n"
   ]
  },
  {
   "cell_type": "code",
   "execution_count": 26,
   "id": "b22e3354",
   "metadata": {},
   "outputs": [
    {
     "name": "stdout",
     "output_type": "stream",
     "text": [
      "              precision    recall  f1-score   support\n",
      "\n",
      "           0       0.89      0.79      0.83     13660\n",
      "           1       0.81      0.90      0.85     13673\n",
      "\n",
      "    accuracy                           0.84     27333\n",
      "   macro avg       0.85      0.84      0.84     27333\n",
      "weighted avg       0.85      0.84      0.84     27333\n",
      "\n"
     ]
    }
   ],
   "source": [
    "from sklearn.metrics import classification_report\n",
    "print(classification_report(y_test, Y_pred, target_names=['0','1'], zero_division=0))"
   ]
  },
  {
   "cell_type": "code",
   "execution_count": 27,
   "id": "f4e742fa",
   "metadata": {},
   "outputs": [],
   "source": [
    "# Scale MinMaxScaler\n",
    "scaler = MinMaxScaler()\n",
    "X_train_scaled = scaler.fit_transform(X_train)\n",
    "X_test_scaled = scaler.fit_transform(X_test)"
   ]
  },
  {
   "cell_type": "code",
   "execution_count": 28,
   "id": "d64cb47f",
   "metadata": {},
   "outputs": [],
   "source": [
    "# fit model with scaler\n",
    "model = model.fit(X_train_scaled, y_train)\n",
    "y_pred_ = model.predict(X_test_scaled)"
   ]
  },
  {
   "cell_type": "code",
   "execution_count": 29,
   "id": "e42961aa",
   "metadata": {},
   "outputs": [
    {
     "name": "stdout",
     "output_type": "stream",
     "text": [
      "Precision =  0.8137 \n",
      "Recall =  0.8948 \n",
      "F-Score =  0.8523\n"
     ]
    }
   ],
   "source": [
    "precision, recall, fscore, support = precision_recall_fscore_support(y_test, y_pred_, average='binary')\n",
    "print('Precision = ',round(precision,4),'\\nRecall = ', round(recall,4), '\\nF-Score = ',round(fscore,4))"
   ]
  },
  {
   "cell_type": "code",
   "execution_count": 30,
   "id": "de4cd07b",
   "metadata": {},
   "outputs": [],
   "source": [
    "# fit model with standared scaler\n",
    "scaler = StandardScaler()\n",
    "X_train_scaled = scaler.fit_transform(X_train)\n",
    "X_test_scaled = scaler.fit_transform(X_test)"
   ]
  },
  {
   "cell_type": "code",
   "execution_count": 31,
   "id": "f6a83bb7",
   "metadata": {},
   "outputs": [],
   "source": [
    "model = model.fit(X_train_scaled, y_train)\n",
    "y_pred_ = model.predict(X_test_scaled)"
   ]
  },
  {
   "cell_type": "code",
   "execution_count": 32,
   "id": "c8f55053-05bb-47c8-b066-dfcf76dfb913",
   "metadata": {},
   "outputs": [
    {
     "data": {
      "text/plain": [
       "0.838802912230637"
      ]
     },
     "execution_count": 32,
     "metadata": {},
     "output_type": "execute_result"
    }
   ],
   "source": [
    "model.score(X_test_scaled, y_test)"
   ]
  },
  {
   "cell_type": "code",
   "execution_count": 33,
   "id": "0148e50e",
   "metadata": {},
   "outputs": [
    {
     "name": "stdout",
     "output_type": "stream",
     "text": [
      "Precision =  0.8068 \n",
      "Recall =  0.8912 \n",
      "F-Score =  0.8469\n"
     ]
    }
   ],
   "source": [
    "precision, recall, fscore, support = precision_recall_fscore_support(y_test, y_pred_, average='binary')\n",
    "print('Precision = ',round(precision,4),'\\nRecall = ', round(recall,4), '\\nF-Score = ',round(fscore,4))"
   ]
  },
  {
   "cell_type": "code",
   "execution_count": 34,
   "id": "6ea188c5",
   "metadata": {},
   "outputs": [
    {
     "data": {
      "image/png": "[encoded data removed]",
      "text/plain": [
       "<Figure size 432x288 with 2 Axes>"
      ]
     },
     "metadata": {
      "needs_background": "light"
     },
     "output_type": "display_data"
    }
   ],
   "source": [
    "from sklearn.metrics import plot_confusion_matrix\n",
    "plot_confusion_matrix(model, X_test_scaled, y_test);"
   ]
  },
  {
   "cell_type": "markdown",
   "id": "8032860c",
   "metadata": {},
   "source": [
    "## Naive bayes"
   ]
  },
  {
   "cell_type": "code",
   "execution_count": 31,
   "id": "69a75a94",
   "metadata": {},
   "outputs": [
    {
     "name": "stdout",
     "output_type": "stream",
     "text": [
      "Precision =  0.8089 \n",
      "Recall =  0.9008 \n",
      "F-Score =  0.8524\n"
     ]
    }
   ],
   "source": [
    "from sklearn.naive_bayes import GaussianNB\n",
    "gnb = GaussianNB()\n",
    "y_pred = gnb.fit(X_train, y_train).predict(X_test)\n",
    "\n",
    "precision, recall, fscore, support = precision_recall_fscore_support(y_test, Y_pred, average='binary')\n",
    "print('Precision = ',round(precision,4),'\\nRecall = ', round(recall,4), '\\nF-Score = ',round(fscore,4))\n"
   ]
  },
  {
   "cell_type": "markdown",
   "id": "487a6a7c-2cba-482e-91fe-1c5163efdf6c",
   "metadata": {},
   "source": [
    "## XGBOOST with Unbalanced data"
   ]
  },
  {
   "cell_type": "code",
   "execution_count": 32,
   "id": "b3db8fab-0883-4de2-ac0d-0cf9a848ebe2",
   "metadata": {},
   "outputs": [
    {
     "name": "stdout",
     "output_type": "stream",
     "text": [
      "[07:08:39] WARNING: C:/Users/Administrator/workspace/xgboost-win64_release_1.5.0/src/learner.cc:1115: Starting in XGBoost 1.3.0, the default evaluation metric used with the objective 'binary:logistic' was changed from 'error' to 'logloss'. Explicitly set eval_metric if you'd like to restore the old behavior.\n"
     ]
    }
   ],
   "source": [
    "from xgboost import XGBClassifier\n",
    "# for the pd.read_csv - the data is huge you can downloud this data from here https://drive.google.com/file/d/160KSNgXVwATn1EBSE1MwM5v44_DM8Pai/view\n",
    "# you can find the link on github \n",
    "# past the path of the file below  in (pd.read_csv)\n",
    "\n",
    "df = pd.read_csv(r\"C:\\Users\\elaaf\\Desktop\\SDS\\extra\\data_undersampled_scaled_tranformed_v1.csv\",index_col= 0)\n",
    "X_train, X_test, y_train, y_test = train_test_split(df.drop(columns=['label']), df['label'], \n",
    "                                                   test_size = 0.33, random_state=42, stratify=df['label'])\n",
    "\n",
    "\n",
    "#Create an object of the classifier.\n",
    "clf = XGBClassifier(use_label_encoder=False ).fit(X_train, y_train)\n",
    "\n"
   ]
  },
  {
   "cell_type": "code",
   "execution_count": 52,
   "id": "20916000-95dd-40ea-bc90-5b31dc974a37",
   "metadata": {},
   "outputs": [
    {
     "name": "stdout",
     "output_type": "stream",
     "text": [
      "Model Accuracy: 90.05\n"
     ]
    }
   ],
   "source": [
    "y_pred = clf.predict(X_test)\n",
    "accuracy = accuracy_score(y_test, y_pred)\n",
    "print(f'Model Accuracy: {round(accuracy, 4)*100}')"
   ]
  },
  {
   "cell_type": "code",
   "execution_count": 53,
   "id": "f6cfb425-0300-486b-8123-9fd5403c4807",
   "metadata": {},
   "outputs": [
    {
     "name": "stdout",
     "output_type": "stream",
     "text": [
      "Precision =  0.8827 \n",
      "Recall =  0.9239 \n",
      "F-Score =  0.9028\n"
     ]
    }
   ],
   "source": [
    "precision, recall, fscore, support = precision_recall_fscore_support(y_test, y_pred, average='binary')\n",
    "print('Precision = ',round(precision,4),'\\nRecall = ', round(recall,4), '\\nF-Score = ',round(fscore,4))\n"
   ]
  },
  {
   "cell_type": "code",
   "execution_count": 35,
   "id": "d6cfe8bf-e265-4b1b-a74d-e65c0af818b6",
   "metadata": {},
   "outputs": [
    {
     "data": {
      "image/png": "[encoded data removed]",
      "text/plain": [
       "<Figure size 432x288 with 2 Axes>"
      ]
     },
     "metadata": {
      "needs_background": "light"
     },
     "output_type": "display_data"
    }
   ],
   "source": [
    "#from sklearn.metrics import plot_confusion_matrix\n",
    "plot_confusion_matrix(clf, X_test, y_test);"
   ]
  },
  {
   "cell_type": "markdown",
   "id": "383e9ba4-7e63-4370-af49-98fd98013f33",
   "metadata": {},
   "source": [
    "# All Models - ensembling "
   ]
  },
  {
   "cell_type": "code",
   "execution_count": 41,
   "id": "71c46e4f-be8d-41bc-9294-0f18c8d891ca",
   "metadata": {},
   "outputs": [
    {
     "data": {
      "text/plain": [
       "VotingClassifier(estimators=[('gbt',\n",
       "                              GradientBoostingClassifier(random_state=1)),\n",
       "                             ('xgb',\n",
       "                              XGBClassifier(base_score=None, booster=None,\n",
       "                                            colsample_bylevel=None,\n",
       "                                            colsample_bynode=None,\n",
       "                                            colsample_bytree=None,\n",
       "                                            enable_categorical=False,\n",
       "                                            gamma=None, gpu_id=None,\n",
       "                                            importance_type=None,\n",
       "                                            interaction_constraints=None,\n",
       "                                            learning_rate=None,\n",
       "                                            max_delta_step=None, max_depth=None,\n",
       "                                            min_child_weight=None, missing=nan,\n",
       "                                            monotone_constraints=None,\n",
       "                                            n_estimators=100, n_jobs=None,\n",
       "                                            num_parallel_tree=None,\n",
       "                                            predictor=None, random_state=1,\n",
       "                                            reg_alpha=None, reg_lambda=None,\n",
       "                                            scale_pos_weight=None,\n",
       "                                            subsample=None, tree_method=None,\n",
       "                                            use_label_encoder=False,\n",
       "                                            validate_parameters=None,\n",
       "                                            verbosity=None)),\n",
       "                             ('gnb', GaussianNB())],\n",
       "                 n_jobs=-1)"
      ]
     },
     "execution_count": 41,
     "metadata": {},
     "output_type": "execute_result"
    }
   ],
   "source": [
    "voting_classifer = VotingClassifier(estimators=[('gbt', GradientBoostingClassifier(random_state=1)),\n",
    "                                               ('xgb', XGBClassifier(random_state=1, use_label_encoder=False)),\n",
    "                                               ('gnb', GaussianNB())],\n",
    "                                    voting='hard', #<-- sklearn calls this hard voting\n",
    "                                    n_jobs=-1)\n",
    "voting_classifer.fit(X_train, y_train)"
   ]
  },
  {
   "cell_type": "code",
   "execution_count": 42,
   "id": "59d10310-d7b5-4ca6-b5e7-44814a1e82e7",
   "metadata": {},
   "outputs": [
    {
     "data": {
      "image/png": "[encoded data removed]",
      "text/plain": [
       "<Figure size 432x288 with 2 Axes>"
      ]
     },
     "metadata": {
      "needs_background": "light"
     },
     "output_type": "display_data"
    }
   ],
   "source": [
    "plot_confusion_matrix(voting_classifer, X_test, y_test);"
   ]
  },
  {
   "cell_type": "code",
   "execution_count": 43,
   "id": "05009d24-c4ff-47af-884d-0c58918e3cb3",
   "metadata": {},
   "outputs": [
    {
     "name": "stdout",
     "output_type": "stream",
     "text": [
      "Precision =  0.8827 \n",
      "Recall =  0.9239 \n",
      "F-Score =  0.9028\n"
     ]
    }
   ],
   "source": [
    "precision, recall, fscore, support = precision_recall_fscore_support(y_test, y_pred, average='binary')\n",
    "print('Precision = ',round(precision,4),'\\nRecall = ', round(recall,4), '\\nF-Score = ',round(fscore,4))\n"
   ]
  },
  {
   "cell_type": "code",
   "execution_count": 45,
   "id": "1510c945-5645-4894-a452-bba407921088",
   "metadata": {},
   "outputs": [
    {
     "data": {
      "text/plain": [
       "0.900523177111916"
      ]
     },
     "execution_count": 45,
     "metadata": {},
     "output_type": "execute_result"
    }
   ],
   "source": [
    "y_pred = clf.predict(X_test)\n",
    "accuracy = accuracy_score(y_test, y_pred)\n",
    "accuracy"
   ]
  },
  {
   "cell_type": "markdown",
   "id": "ef53ec21-f660-40f6-ab98-1cabed4685e3",
   "metadata": {},
   "source": [
    "### Stacked"
   ]
  },
  {
   "cell_type": "code",
   "execution_count": 47,
   "id": "4c34b6c8-a74e-4ac3-86b8-bcaf8fce4f6b",
   "metadata": {},
   "outputs": [],
   "source": [
    "from mlxtend.classifier import StackingClassifier"
   ]
  },
  {
   "cell_type": "code",
   "execution_count": 54,
   "id": "f7e78846-d382-4070-9369-1d5cc39fbdf1",
   "metadata": {},
   "outputs": [],
   "source": [
    "stacked = StackingClassifier(\n",
    "    classifiers=[GradientBoostingClassifier(random_state=1),\n",
    "                 XGBClassifier(random_state=1, use_label_encoder=False),\n",
    "                 GaussianNB()\n",
    "    ], \n",
    "    meta_classifier=LogisticRegression(), \n",
    "    use_probas=False)"
   ]
  },
  {
   "cell_type": "code",
   "execution_count": 55,
   "id": "42495b25-2496-4d1a-b1e1-594f0beff1c9",
   "metadata": {
    "collapsed": true,
    "jupyter": {
     "outputs_hidden": true
    },
    "tags": []
   },
   "outputs": [
    {
     "name": "stdout",
     "output_type": "stream",
     "text": [
      "[07:21:23] WARNING: C:/Users/Administrator/workspace/xgboost-win64_release_1.5.0/src/learner.cc:1115: Starting in XGBoost 1.3.0, the default evaluation metric used with the objective 'binary:logistic' was changed from 'error' to 'logloss'. Explicitly set eval_metric if you'd like to restore the old behavior.\n"
     ]
    },
    {
     "data": {
      "text/plain": [
       "StackingClassifier(classifiers=[GradientBoostingClassifier(random_state=1),\n",
       "                                XGBClassifier(base_score=None, booster=None,\n",
       "                                              colsample_bylevel=None,\n",
       "                                              colsample_bynode=None,\n",
       "                                              colsample_bytree=None,\n",
       "                                              enable_categorical=False,\n",
       "                                              gamma=None, gpu_id=None,\n",
       "                                              importance_type=None,\n",
       "                                              interaction_constraints=None,\n",
       "                                              learning_rate=None,\n",
       "                                              max_delta_step=None,\n",
       "                                              max_depth=None,\n",
       "                                              min_child_weight=None,\n",
       "                                              missing=nan,\n",
       "                                              monotone_constraints=None,\n",
       "                                              n_estimators=100, n_jobs=None,\n",
       "                                              num_parallel_tree=None,\n",
       "                                              predictor=None, random_state=1,\n",
       "                                              reg_alpha=None, reg_lambda=None,\n",
       "                                              scale_pos_weight=None,\n",
       "                                              subsample=None, tree_method=None,\n",
       "                                              use_label_encoder=False,\n",
       "                                              validate_parameters=None,\n",
       "                                              verbosity=None),\n",
       "                                GaussianNB()],\n",
       "                   meta_classifier=LogisticRegression())"
      ]
     },
     "execution_count": 55,
     "metadata": {},
     "output_type": "execute_result"
    }
   ],
   "source": [
    "stacked.fit(X_train, y_train)"
   ]
  },
  {
   "cell_type": "code",
   "execution_count": 56,
   "id": "96cb8d81-a787-4cd0-8fc0-d1a11f7bc31a",
   "metadata": {},
   "outputs": [
    {
     "name": "stdout",
     "output_type": "stream",
     "text": [
      "Precision =  0.8827 \n",
      "Recall =  0.9239 \n",
      "F-Score =  0.9028\n"
     ]
    }
   ],
   "source": [
    "y_pred = stacked.predict(X_test)\n",
    "precision, recall, fscore, support = precision_recall_fscore_support(y_test, y_pred, average='binary')\n",
    "print('Precision = ',round(precision,4),'\\nRecall = ', round(recall,4), '\\nF-Score = ',round(fscore,4))\n"
   ]
  },
  {
   "cell_type": "code",
   "execution_count": 58,
   "id": "c15efe0f-1943-4ee5-849c-7e04e8454bd6",
   "metadata": {},
   "outputs": [
    {
     "data": {
      "image/png": "[encoded data removed]",
      "text/plain": [
       "<Figure size 432x288 with 2 Axes>"
      ]
     },
     "metadata": {
      "needs_background": "light"
     },
     "output_type": "display_data"
    }
   ],
   "source": [
    "plot_confusion_matrix(stacked, X_test, y_test);"
   ]
  },
  {
   "cell_type": "markdown",
   "id": "6492b061-819d-4aaa-b6b4-1ea8ec432580",
   "metadata": {},
   "source": [
    "### Adaboost"
   ]
  },
  {
   "cell_type": "code",
   "execution_count": 75,
   "id": "cfaa985f-207d-44d1-b23c-9bdf110713f2",
   "metadata": {
    "tags": []
   },
   "outputs": [
    {
     "data": {
      "text/plain": [
       "AdaBoostClassifier(base_estimator=GradientBoostingClassifier(random_state=1),\n",
       "                   random_state=1)"
      ]
     },
     "execution_count": 75,
     "metadata": {},
     "output_type": "execute_result"
    }
   ],
   "source": [
    "from sklearn.ensemble import AdaBoostClassifier\n",
    "\n",
    "clf = AdaBoostClassifier(base_estimator=GradientBoostingClassifier(random_state=1), n_estimators=50, random_state=1)\n",
    "clf.fit(X_train, y_train)"
   ]
  },
  {
   "cell_type": "code",
   "execution_count": 76,
   "id": "5285b348-ae47-431c-9476-d8d6de2407dd",
   "metadata": {},
   "outputs": [
    {
     "name": "stdout",
     "output_type": "stream",
     "text": [
      "Precision =  0.896 \n",
      "Recall =  0.9319 \n",
      "F-Score =  0.9136\n"
     ]
    }
   ],
   "source": [
    "y_pred = clf.predict(X_test)\n",
    "precision, recall, fscore, support = precision_recall_fscore_support(y_test, y_pred, average='binary')\n",
    "print('Precision = ',round(precision,4),'\\nRecall = ', round(recall,4), '\\nF-Score = ',round(fscore,4))\n"
   ]
  },
  {
   "cell_type": "code",
   "execution_count": 77,
   "id": "fa0b8335-a82e-4af2-8b3c-3fdeccdbd6df",
   "metadata": {},
   "outputs": [
    {
     "data": {
      "image/png": "[encoded data removed]",
      "text/plain": [
       "<Figure size 432x288 with 2 Axes>"
      ]
     },
     "metadata": {
      "needs_background": "light"
     },
     "output_type": "display_data"
    }
   ],
   "source": [
    "plot_confusion_matrix(clf, X_test, y_test);"
   ]
  },
  {
   "cell_type": "code",
   "execution_count": 80,
   "id": "d4b0c568-0be8-4110-864b-d7bf9545687e",
   "metadata": {},
   "outputs": [
    {
     "data": {
      "text/plain": [
       "0.9118281930267442"
      ]
     },
     "execution_count": 80,
     "metadata": {},
     "output_type": "execute_result"
    }
   ],
   "source": [
    "clf.score(X_test, y_test)"
   ]
  },
  {
   "cell_type": "markdown",
   "id": "a37a846c",
   "metadata": {},
   "source": [
    "# AUC"
   ]
  },
  {
   "cell_type": "code",
   "execution_count": 81,
   "id": "6d734afe-7c0a-462b-9554-ea919136afbd",
   "metadata": {},
   "outputs": [],
   "source": [
    "from sklearn.metrics import plot_roc_curve"
   ]
  },
  {
   "cell_type": "code",
   "execution_count": 82,
   "id": "f4405177-005d-41c5-944e-6fe226139058",
   "metadata": {},
   "outputs": [
    {
     "data": {
      "text/plain": [
       "<sklearn.metrics._plot.roc_curve.RocCurveDisplay at 0x1a4b7a9db50>"
      ]
     },
     "execution_count": 82,
     "metadata": {},
     "output_type": "execute_result"
    },
    {
     "data": {
      "image/png": "[encoded data removed]",
      "text/plain": [
       "<Figure size 432x288 with 1 Axes>"
      ]
     },
     "metadata": {
      "needs_background": "light"
     },
     "output_type": "display_data"
    }
   ],
   "source": [
    "plot_roc_curve(clf, X_test, y_test)"
   ]
  },
  {
   "cell_type": "markdown",
   "id": "8346603c",
   "metadata": {},
   "source": [
    "# Test with new Data"
   ]
  },
  {
   "cell_type": "code",
   "execution_count": 8,
   "id": "cc35d9d3",
   "metadata": {},
   "outputs": [],
   "source": [
    "df_test = pd.read_csv(\"../Data/BMT_balanced_encoded_address_RobustScaler_Test.csv\",index_col= 0)"
   ]
  },
  {
   "cell_type": "code",
   "execution_count": 38,
   "id": "6f522812",
   "metadata": {},
   "outputs": [
    {
     "data": {
      "text/html": [
       "<div>\n",
       "<style scoped>\n",
       "    .dataframe tbody tr th:only-of-type {\n",
       "        vertical-align: middle;\n",
       "    }\n",
       "\n",
       "    .dataframe tbody tr th {\n",
       "        vertical-align: top;\n",
       "    }\n",
       "\n",
       "    .dataframe thead th {\n",
       "        text-align: right;\n",
       "    }\n",
       "</style>\n",
       "<table border=\"1\" class=\"dataframe\">\n",
       "  <thead>\n",
       "    <tr style=\"text-align: right;\">\n",
       "      <th></th>\n",
       "      <th>address</th>\n",
       "      <th>year</th>\n",
       "      <th>day</th>\n",
       "      <th>label</th>\n",
       "      <th>s_length</th>\n",
       "      <th>s_weight</th>\n",
       "      <th>s_counted</th>\n",
       "      <th>s_income</th>\n",
       "      <th>s_looped</th>\n",
       "      <th>s_neighbors</th>\n",
       "    </tr>\n",
       "  </thead>\n",
       "  <tbody>\n",
       "    <tr>\n",
       "      <th>0</th>\n",
       "      <td>0</td>\n",
       "      <td>2017</td>\n",
       "      <td>11</td>\n",
       "      <td>1</td>\n",
       "      <td>0.113636</td>\n",
       "      <td>-0.317644</td>\n",
       "      <td>0.000000</td>\n",
       "      <td>-0.139136</td>\n",
       "      <td>-0.214479</td>\n",
       "      <td>-0.005927</td>\n",
       "    </tr>\n",
       "    <tr>\n",
       "      <th>1</th>\n",
       "      <td>5</td>\n",
       "      <td>2016</td>\n",
       "      <td>132</td>\n",
       "      <td>1</td>\n",
       "      <td>0.409091</td>\n",
       "      <td>-0.326033</td>\n",
       "      <td>0.000000</td>\n",
       "      <td>-0.139255</td>\n",
       "      <td>-0.214479</td>\n",
       "      <td>-0.030102</td>\n",
       "    </tr>\n",
       "    <tr>\n",
       "      <th>2</th>\n",
       "      <td>6</td>\n",
       "      <td>2016</td>\n",
       "      <td>246</td>\n",
       "      <td>1</td>\n",
       "      <td>-0.090909</td>\n",
       "      <td>0.710751</td>\n",
       "      <td>0.000000</td>\n",
       "      <td>0.098840</td>\n",
       "      <td>-0.214479</td>\n",
       "      <td>-0.005927</td>\n",
       "    </tr>\n",
       "    <tr>\n",
       "      <th>3</th>\n",
       "      <td>8</td>\n",
       "      <td>2016</td>\n",
       "      <td>322</td>\n",
       "      <td>1</td>\n",
       "      <td>0.727273</td>\n",
       "      <td>-0.322235</td>\n",
       "      <td>0.000000</td>\n",
       "      <td>-0.207826</td>\n",
       "      <td>-0.214479</td>\n",
       "      <td>-0.005927</td>\n",
       "    </tr>\n",
       "    <tr>\n",
       "      <th>4</th>\n",
       "      <td>9</td>\n",
       "      <td>2016</td>\n",
       "      <td>238</td>\n",
       "      <td>1</td>\n",
       "      <td>1.545455</td>\n",
       "      <td>-0.250739</td>\n",
       "      <td>12.297297</td>\n",
       "      <td>0.098840</td>\n",
       "      <td>-0.214479</td>\n",
       "      <td>-0.030102</td>\n",
       "    </tr>\n",
       "    <tr>\n",
       "      <th>...</th>\n",
       "      <td>...</td>\n",
       "      <td>...</td>\n",
       "      <td>...</td>\n",
       "      <td>...</td>\n",
       "      <td>...</td>\n",
       "      <td>...</td>\n",
       "      <td>...</td>\n",
       "      <td>...</td>\n",
       "      <td>...</td>\n",
       "      <td>...</td>\n",
       "    </tr>\n",
       "    <tr>\n",
       "      <th>2724847</th>\n",
       "      <td>5214</td>\n",
       "      <td>2018</td>\n",
       "      <td>139</td>\n",
       "      <td>0</td>\n",
       "      <td>-0.090909</td>\n",
       "      <td>0.710751</td>\n",
       "      <td>0.000000</td>\n",
       "      <td>-0.005709</td>\n",
       "      <td>-0.214479</td>\n",
       "      <td>-0.030102</td>\n",
       "    </tr>\n",
       "    <tr>\n",
       "      <th>1994617</th>\n",
       "      <td>20804</td>\n",
       "      <td>2016</td>\n",
       "      <td>138</td>\n",
       "      <td>0</td>\n",
       "      <td>-0.068182</td>\n",
       "      <td>-0.067027</td>\n",
       "      <td>0.000000</td>\n",
       "      <td>0.848793</td>\n",
       "      <td>-0.214479</td>\n",
       "      <td>-0.005927</td>\n",
       "    </tr>\n",
       "    <tr>\n",
       "      <th>635147</th>\n",
       "      <td>21980</td>\n",
       "      <td>2012</td>\n",
       "      <td>239</td>\n",
       "      <td>0</td>\n",
       "      <td>1.454545</td>\n",
       "      <td>-0.196656</td>\n",
       "      <td>35.783784</td>\n",
       "      <td>-0.196867</td>\n",
       "      <td>1.481470</td>\n",
       "      <td>-0.030102</td>\n",
       "    </tr>\n",
       "    <tr>\n",
       "      <th>350738</th>\n",
       "      <td>46995</td>\n",
       "      <td>2011</td>\n",
       "      <td>320</td>\n",
       "      <td>0</td>\n",
       "      <td>-0.045455</td>\n",
       "      <td>-0.196656</td>\n",
       "      <td>0.000000</td>\n",
       "      <td>12.250906</td>\n",
       "      <td>-0.214479</td>\n",
       "      <td>-0.005927</td>\n",
       "    </tr>\n",
       "    <tr>\n",
       "      <th>2643493</th>\n",
       "      <td>36051</td>\n",
       "      <td>2018</td>\n",
       "      <td>57</td>\n",
       "      <td>0</td>\n",
       "      <td>1.545455</td>\n",
       "      <td>0.250331</td>\n",
       "      <td>34.486486</td>\n",
       "      <td>0.518251</td>\n",
       "      <td>-0.214479</td>\n",
       "      <td>-0.005927</td>\n",
       "    </tr>\n",
       "  </tbody>\n",
       "</table>\n",
       "<p>82826 rows × 10 columns</p>\n",
       "</div>"
      ],
      "text/plain": [
       "         address  year  day  label  s_length  s_weight  s_counted   s_income  \\\n",
       "0              0  2017   11      1  0.113636 -0.317644   0.000000  -0.139136   \n",
       "1              5  2016  132      1  0.409091 -0.326033   0.000000  -0.139255   \n",
       "2              6  2016  246      1 -0.090909  0.710751   0.000000   0.098840   \n",
       "3              8  2016  322      1  0.727273 -0.322235   0.000000  -0.207826   \n",
       "4              9  2016  238      1  1.545455 -0.250739  12.297297   0.098840   \n",
       "...          ...   ...  ...    ...       ...       ...        ...        ...   \n",
       "2724847     5214  2018  139      0 -0.090909  0.710751   0.000000  -0.005709   \n",
       "1994617    20804  2016  138      0 -0.068182 -0.067027   0.000000   0.848793   \n",
       "635147     21980  2012  239      0  1.454545 -0.196656  35.783784  -0.196867   \n",
       "350738     46995  2011  320      0 -0.045455 -0.196656   0.000000  12.250906   \n",
       "2643493    36051  2018   57      0  1.545455  0.250331  34.486486   0.518251   \n",
       "\n",
       "         s_looped  s_neighbors  \n",
       "0       -0.214479    -0.005927  \n",
       "1       -0.214479    -0.030102  \n",
       "2       -0.214479    -0.005927  \n",
       "3       -0.214479    -0.005927  \n",
       "4       -0.214479    -0.030102  \n",
       "...           ...          ...  \n",
       "2724847 -0.214479    -0.030102  \n",
       "1994617 -0.214479    -0.005927  \n",
       "635147   1.481470    -0.030102  \n",
       "350738  -0.214479    -0.005927  \n",
       "2643493 -0.214479    -0.005927  \n",
       "\n",
       "[82826 rows x 10 columns]"
      ]
     },
     "execution_count": 38,
     "metadata": {},
     "output_type": "execute_result"
    }
   ],
   "source": [
    "df_test"
   ]
  },
  {
   "cell_type": "code",
   "execution_count": 40,
   "id": "90658d27",
   "metadata": {},
   "outputs": [],
   "source": [
    "X_train, X_test, y_train, y_test = train_test_split(df_test.drop(columns=['label','address']), df_test['label'], \n",
    "                                                    test_size = 0.25, random_state=42)"
   ]
  },
  {
   "cell_type": "code",
   "execution_count": null,
   "id": "35bb46b7-e980-4684-989f-786797e24327",
   "metadata": {},
   "outputs": [],
   "source": []
  }
 ],
 "metadata": {
  "kernelspec": {
   "display_name": "Python 3",
   "language": "python",
   "name": "python3"
  },
  "language_info": {
   "codemirror_mode": {
    "name": "ipython",
    "version": 3
   },
   "file_extension": ".py",
   "mimetype": "text/x-python",
   "name": "python",
   "nbconvert_exporter": "python",
   "pygments_lexer": "ipython3",
   "version": "3.8.8"
  }
 },
 "nbformat": 4,
 "nbformat_minor": 5
}
